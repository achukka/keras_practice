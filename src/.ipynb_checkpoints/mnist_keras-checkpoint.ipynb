{
 "metadata": {
  "name": "",
  "signature": "sha256:1f4a37123b7f1d60a10ca32910629770a1cdfba9ca746ec8566fd7677f792911"
 },
 "nbformat": 3,
 "nbformat_minor": 0,
 "worksheets": []
}